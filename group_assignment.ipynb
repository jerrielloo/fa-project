{
 "cells": [
  {
   "cell_type": "code",
   "execution_count": null,
   "id": "1445d619",
   "metadata": {},
   "outputs": [],
   "source": [
    "import pandas as pd\n",
    "import numpy as np\n",
    "import seaborn as sns\n",
    "import matplotlib.pyplot as plt\n",
    "\n",
    "from sklearn.metrics import accuracy_score\n",
    "from sklearn.model_selection import train_test_split\n",
    "from sklearn.linear_model import LogisticRegression"
   ]
  },
  {
   "cell_type": "code",
   "execution_count": null,
   "id": "f9237a55",
   "metadata": {},
   "outputs": [],
   "source": [
    "df = pd.read_csv(\"IS453 Group Assignment - Data.csv\")\n",
    "df"
   ]
  },
  {
   "cell_type": "code",
   "execution_count": null,
   "id": "9eb2ce04",
   "metadata": {},
   "outputs": [],
   "source": [
    "# Filtering based on Married, Does not own property, and below the age of 35\n",
    "\n",
    "df[\"AGE\"] = -df[\"DAYS_BIRTH\"]/365\n",
    "df2 = df[(df[\"FLAG_OWN_REALTY\"] == \"N\") & (df[\"NAME_FAMILY_STATUS\"] == \"Married\") & (df[\"AGE\"] <= 35)]\n",
    "df2"
   ]
  },
  {
   "cell_type": "code",
   "execution_count": null,
   "id": "596f7e13",
   "metadata": {},
   "outputs": [],
   "source": [
    "# Selecting only needed features\n",
    "\n",
    "final_df = pd.DataFrame()\n",
    "final_df[\"AGE\"] = df2[\"AGE\"] # Time relative to the application\n",
    "final_df[\"STATUS\"] = df2[\"STATUS\"]\n",
    "final_df[\"FLAG_OWN_CAR\"] = df2[\"FLAG_OWN_CAR\"]\n",
    "# final_df[\"ORGANIZATION_TYPE\"] = df2[\"ORGANIZATION_TYPE\"]\n",
    "final_df[\"NAME_FAMILY_STATUS\"] = df2[\"NAME_FAMILY_STATUS\"]\n",
    "final_df[\"NAME_INCOME_TYPE\"] = df2[\"NAME_INCOME_TYPE\"]\n",
    "final_df[\"CNT_CHILDREN\"] = df2[\"CNT_CHILDREN\"]\n",
    "final_df[\"DAYS_EMPLOYED\"] = df2[\"DAYS_EMPLOYED\"] # Time relative to the application\n",
    "final_df[\"AMT_INCOME_TOTAL\"] = df2[\"AMT_INCOME_TOTAL\"]\n",
    "# final_df[\"NAME_TYPE_SUITE\"] = df2[\"NAME_TYPE_SUITE\"]\n",
    "final_df[\"NAME_EDUCATION_TYPE\"] = df2[\"NAME_EDUCATION_TYPE\"]\n",
    "final_df[\"OCCUPATION_TYPE\"] = df2[\"OCCUPATION_TYPE\"]\n",
    "final_df[\"CNT_FAM_MEMBERS\"] = df2[\"CNT_FAM_MEMBERS\"]\n",
    "final_df[\"AMT_CREDIT\"] = df2[\"AMT_CREDIT\"]\n",
    "final_df[\"AMT_ANNUITY\"] = df2[\"AMT_ANNUITY\"]\n",
    "\n",
    "# Maybe can include (Determinant factor as maybe friend group might be influencing this behavior? As they are below 35)\n",
    "final_df[\"OBS_30_CNT_SOCIAL_CIRCLE\"] = df2[\"OBS_30_CNT_SOCIAL_CIRCLE\"]\n",
    "final_df[\"DEF_30_CNT_SOCIAL_CIRCLE\"] = df2[\"DEF_30_CNT_SOCIAL_CIRCLE\"]\n",
    "final_df[\"OBS_60_CNT_SOCIAL_CIRCLE\"] = df2[\"OBS_60_CNT_SOCIAL_CIRCLE\"]\n",
    "final_df[\"DEF_60_CNT_SOCIAL_CIRCLE\"] = df2[\"DEF_60_CNT_SOCIAL_CIRCLE\"]"
   ]
  },
  {
   "cell_type": "code",
   "execution_count": null,
   "id": "f016628c",
   "metadata": {},
   "outputs": [],
   "source": [
    "# Check any missing rows\n",
    "\n",
    "col_w_na = pd.DataFrame((final_df.isnull().sum().sort_values(ascending=False)/final_df.shape[0])).applymap(\"{0:.3%}\".format)\n",
    "\n",
    "print(col_w_na[0].sort_values().tail(10))\n",
    "print()\n",
    "final_df.info()"
   ]
  },
  {
   "cell_type": "code",
   "execution_count": null,
   "id": "b06ebe54",
   "metadata": {},
   "outputs": [],
   "source": [
    "# Analysis of missing rows\n",
    "\n",
    "final_df[final_df[\"OCCUPATION_TYPE\"].isna()]"
   ]
  },
  {
   "cell_type": "code",
   "execution_count": null,
   "id": "9178d7cc",
   "metadata": {},
   "outputs": [],
   "source": [
    "# Analysis of missing rows\n",
    "\n",
    "print(\"Missing number of rows: \" + str(len(final_df[final_df[\"OBS_30_CNT_SOCIAL_CIRCLE\"].isna()])))\n",
    "\n",
    "final_df[final_df[\"OBS_30_CNT_SOCIAL_CIRCLE\"].isna()]"
   ]
  },
  {
   "cell_type": "code",
   "execution_count": null,
   "id": "39f1cd1e",
   "metadata": {},
   "outputs": [],
   "source": [
    "# Analysis of missing rows\n",
    "\n",
    "print((final_df[\"AMT_CREDIT\"]/final_df[\"AMT_ANNUITY\"]).describe())\n",
    "print()\n",
    "missing_amt_annunity_index_list = final_df[final_df[\"AMT_ANNUITY\"].isna()].index.values\n",
    "\n",
    "final_df[final_df[\"AMT_ANNUITY\"].isna()]"
   ]
  },
  {
   "cell_type": "code",
   "execution_count": null,
   "id": "ecef3248",
   "metadata": {},
   "outputs": [],
   "source": [
    "# Filling missing values\n",
    "\n",
    "final_df[\"OCCUPATION_TYPE\"] = final_df[\"OCCUPATION_TYPE\"].fillna(\"Missing\")\n",
    "\n",
    "# For now put it as 0? \n",
    "final_df['OBS_30_CNT_SOCIAL_CIRCLE'].fillna(value = 0, inplace = True)\n",
    "final_df['DEF_30_CNT_SOCIAL_CIRCLE'].fillna(value = 0, inplace = True)\n",
    "final_df['OBS_60_CNT_SOCIAL_CIRCLE'].fillna(value = 0, inplace = True)\n",
    "final_df['DEF_60_CNT_SOCIAL_CIRCLE'].fillna(value = 0, inplace = True)\n",
    "\n",
    "# Take the median quotient of amt_credit/amt_annunity as divisor fills for amt_annunity(debatable?) \n",
    "final_df['AMT_ANNUITY'].fillna(value = final_df['AMT_ANNUITY'], inplace = True)\n",
    "AMT_ANNUITY_divisor_median = (final_df[\"AMT_CREDIT\"]/final_df[\"AMT_ANNUITY\"]).median() \n",
    "\n",
    "final_df[\"AMT_ANNUITY\"] = final_df[\"AMT_ANNUITY\"].fillna(final_df[\"AMT_CREDIT\"]/AMT_ANNUITY_divisor_median)\n",
    "\n",
    "final_df.info()\n",
    "final_df.loc[missing_amt_annunity_index_list]"
   ]
  },
  {
   "cell_type": "code",
   "execution_count": null,
   "id": "eb630b64",
   "metadata": {},
   "outputs": [],
   "source": [
    "# Checking for any outliers\n",
    "\n",
    "final_df.max()"
   ]
  },
  {
   "cell_type": "code",
   "execution_count": null,
   "id": "4e83893b",
   "metadata": {},
   "outputs": [],
   "source": [
    "# final_df[(final_df[\"DAYS_EMPLOYED\"] < 365243) & (final_df[\"DAYS_EMPLOYED\"] > 0)]\n",
    "# final_df[final_df[\"NAME_INCOME_TYPE\"] == \"Pensioner\"].info()\n",
    "\n",
    "# Outlier Analysis (365243 days employed are people who are pensioner[retired] or unemployed)\n",
    "\n",
    "final_df[final_df[\"DAYS_EMPLOYED\"] == 365243].info()"
   ]
  },
  {
   "cell_type": "code",
   "execution_count": null,
   "id": "41bc5ae5",
   "metadata": {},
   "outputs": [],
   "source": [
    "# Check correlations (Might need to do hot encoding to see all correlations and do logistic regression)\n",
    "\n",
    "plt.figure(figsize=(16, 5))\n",
    "sns.heatmap(final_df.corr(), annot=True);"
   ]
  },
  {
   "cell_type": "code",
   "execution_count": null,
   "id": "27241b3e",
   "metadata": {},
   "outputs": [],
   "source": [
    "# Feature Selection \n",
    "\n",
    "final_df = final_df.drop(columns=[\"CNT_FAM_MEMBERS\", \"OBS_60_CNT_SOCIAL_CIRCLE\", \"DEF_60_CNT_SOCIAL_CIRCLE\" ])\n",
    "plt.figure(figsize=(16, 5))\n",
    "sns.heatmap(final_df.corr(), annot=True);"
   ]
  },
  {
   "cell_type": "code",
   "execution_count": null,
   "id": "d2967902",
   "metadata": {},
   "outputs": [],
   "source": [
    "# Feature extraction \n",
    "\n",
    "# Combining Loan Annunity (Monthly repayments) to Income (Annual income?)\n",
    "\n",
    "final_df[\"debt-to-income\"] = final_df[\"AMT_ANNUITY\"]/(final_df[\"AMT_INCOME_TOTAL\"]/12)\n",
    "final_df = final_df.drop(columns=[\"AMT_ANNUITY\", \"AMT_INCOME_TOTAL\"])\n",
    "\n",
    "plt.figure(figsize=(16, 5))\n",
    "sns.heatmap(final_df.corr(), annot=True);"
   ]
  },
  {
   "cell_type": "code",
   "execution_count": null,
   "id": "324d8a01",
   "metadata": {},
   "outputs": [],
   "source": [
    "# Hot encoding\n",
    "\n",
    "final_df = pd.get_dummies(final_df,columns=['FLAG_OWN_CAR', \"NAME_FAMILY_STATUS\", \"NAME_INCOME_TYPE\", \"NAME_EDUCATION_TYPE\", \"OCCUPATION_TYPE\"])"
   ]
  },
  {
   "cell_type": "code",
   "execution_count": null,
   "id": "fc6016c7",
   "metadata": {},
   "outputs": [],
   "source": [
    "final_df.corr().describe()"
   ]
  },
  {
   "cell_type": "code",
   "execution_count": null,
   "id": "935408cf",
   "metadata": {},
   "outputs": [],
   "source": [
    "# Logistic Regression\n",
    "X = final_df.drop('STATUS' , axis = 1)\n",
    "y = final_df['STATUS']\n",
    "\n",
    "X_train, X_test, y_train, y_test = train_test_split(X, y, test_size = 0.2, random_state = 100, stratify = y)\n",
    "\n",
    "print(\"Number of rows in original data: \", final_df.shape[0])\n",
    "print(\"Number of rows in training data: \", X_train.shape[0])\n",
    "print(\"Number of rows in test data:     \", X_test.shape[0])\n",
    "print(\"\\nPercentage of bads in original data: \", \"{:.2%}\".format(y.sum()/y.shape[0]))\n",
    "print(\"Percentage of bads in train data:    \", \"{:.2%}\".format(y_train.sum()/y_train.shape[0]))\n",
    "print(\"Percentage of bads in test data:     \", \"{:.2%}\".format(y_test.sum()/y_test.shape[0]))"
   ]
  },
  {
   "cell_type": "code",
   "execution_count": null,
   "id": "1a786d3b",
   "metadata": {},
   "outputs": [],
   "source": [
    "# create a logistic regression model and fit the training data\n",
    "\n",
    "logreg = LogisticRegression(solver='liblinear')\n",
    "logreg.fit(X_train, y_train)\n",
    "\n",
    "# print out the intercept and coeeficients\n",
    "coeff = logreg.coef_.reshape(-1)\n",
    "df_coeff = pd.DataFrame({\n",
    "    'Variable'    : X_train.columns,\n",
    "    'coefficient' : (coeff)})\n",
    "print(\"Intercept: \", np.round(logreg.intercept_[0],6))\n",
    "df_coeff"
   ]
  },
  {
   "cell_type": "code",
   "execution_count": null,
   "id": "0d54d58a",
   "metadata": {},
   "outputs": [],
   "source": [
    "# check the accuracy\n",
    "\n",
    "y_pred = logreg.predict(X_test)\n",
    "print('Testing accuracy is %s' % np.round(accuracy_score(y_test, y_pred),3))"
   ]
  },
  {
   "cell_type": "code",
   "execution_count": null,
   "id": "a1ee8e14",
   "metadata": {},
   "outputs": [],
   "source": []
  }
 ],
 "metadata": {
  "kernelspec": {
   "display_name": "Python 3 (ipykernel)",
   "language": "python",
   "name": "python3"
  },
  "language_info": {
   "codemirror_mode": {
    "name": "ipython",
    "version": 3
   },
   "file_extension": ".py",
   "mimetype": "text/x-python",
   "name": "python",
   "nbconvert_exporter": "python",
   "pygments_lexer": "ipython3",
   "version": "3.7.11"
  }
 },
 "nbformat": 4,
 "nbformat_minor": 5
}
